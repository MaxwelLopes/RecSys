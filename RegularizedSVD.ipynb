{
 "cells": [
  {
   "cell_type": "code",
   "execution_count": 91,
   "metadata": {},
   "outputs": [],
   "source": [
    "import numpy as np\n",
    "import pandas as pd\n",
    "import requests\n",
    "import zipfile\n",
    "import io"
   ]
  },
  {
   "cell_type": "code",
   "execution_count": 109,
   "metadata": {},
   "outputs": [],
   "source": [
    "class RegularizedSVD:\n",
    "    def __init__(self, n_users, n_items, n_factors, lr, reg, max_epochs):\n",
    "        self.n_users = n_users\n",
    "        self.n_items = n_items\n",
    "        self.n_factors = n_factors\n",
    "        self.lr = lr\n",
    "        self.reg = reg\n",
    "        self.max_epochs = max_epochs\n",
    "        \n",
    "        self.user_factors = np.random.normal(scale=1./self.n_factors, size=(self.n_users, self.n_factors))\n",
    "        self.item_factors = np.random.normal(scale=1./self.n_factors, size=(self.n_items, self.n_factors))\n",
    "    \n",
    "    def train(self, dataset):\n",
    "        for epoch in range(self.max_epochs):\n",
    "            np.random.shuffle(dataset)\n",
    "            self.update(dataset)\n",
    "            self.objective(dataset)\n",
    "\n",
    "    def update(self, dataset):\n",
    "        for (u, i, r) in dataset:\n",
    "            pred = self.predict_single(u - 1, i - 1)  \n",
    "            e = r - pred\n",
    "            user_factors_u = self.user_factors[u - 1]\n",
    "            item_factors_i = self.item_factors[i - 1]\n",
    "            \n",
    "            self.user_factors[u - 1] += self.lr * (e * item_factors_i - self.reg * user_factors_u)\n",
    "            self.item_factors[i - 1] += self.lr * (e * user_factors_u - self.reg * item_factors_i)\n",
    "    \n",
    "    def objective(self, dataset):\n",
    "        total = 0\n",
    "        for (u, i, r) in dataset:\n",
    "            pred = self.predict_single(u - 1, i - 1)  \n",
    "            e = r - pred\n",
    "            total += e**2\n",
    "            total += self.reg * (np.linalg.norm(self.user_factors[u - 1])**2 + np.linalg.norm(self.item_factors[i - 1])**2)\n",
    "        return total\n",
    "\n",
    "    def predict_single(self, u, i):\n",
    "        pred = np.dot(self.user_factors[u], self.item_factors[i])\n",
    "        return pred"
   ]
  },
  {
   "cell_type": "code",
   "execution_count": 93,
   "metadata": {},
   "outputs": [],
   "source": [
    "# URL direto para o arquivo ZIP\n",
    "url = \"https://files.grouplens.org/datasets/movielens/ml-100k.zip\"\n",
    "\n",
    "# Baixar o arquivo ZIP\n",
    "response = requests.get(url)\n",
    "zip_file = zipfile.ZipFile(io.BytesIO(response.content))\n",
    "\n",
    "# Extrair e ler o arquivo 'u.data' em um DataFrame do pandas\n",
    "with zip_file.open('ml-100k/u.data') as file:\n",
    "    matriz_user_item = pd.read_csv(file, sep='\\t', header=None, names=['User ID', 'Item ID', 'Rating', 'Timestamp'])\n",
    "\n",
    "# Remover a coluna 'Timestamp'\n",
    "matriz_user_item.drop('Timestamp', axis=1, inplace=True)\n",
    "\n",
    "# Preencher valores nulos com 0 (se houver)\n",
    "matriz_user_item.fillna(0, inplace=True)\n",
    "\n",
    "# Determinar o número de usuários e itens únicos\n",
    "n_users = matriz_user_item['User ID'].nunique()\n",
    "n_items = matriz_user_item['Item ID'].nunique()\n",
    "\n",
    "dataset = list(zip(matriz_user_item['User ID'].values, matriz_user_item['Item ID'].values, matriz_user_item['Rating'].values))"
   ]
  },
  {
   "cell_type": "code",
   "execution_count": 110,
   "metadata": {},
   "outputs": [],
   "source": [
    "from sklearn.model_selection import train_test_split\n",
    "from sklearn.metrics import mean_squared_error\n",
    "\n",
    "train_data, test_data = train_test_split(dataset, test_size=0.2, random_state=42)\n",
    "\n",
    "model = RegularizedSVD(n_users, n_items, n_factors=96, lr=0.001, reg=0.02, max_epochs=100)\n",
    "\n",
    "model.train(train_data)"
   ]
  },
  {
   "cell_type": "code",
   "execution_count": 106,
   "metadata": {},
   "outputs": [
    {
     "name": "stdout",
     "output_type": "stream",
     "text": [
      "RMSE no conjunto de teste: 0.9470\n",
      "MAE no conjunto de teste: 0.7414\n",
      "Precisão no conjunto de teste: 0.7466\n",
      "Recall no conjunto de teste: 0.7218\n",
      "F1-Score no conjunto de teste: 0.7340\n"
     ]
    }
   ],
   "source": [
    "from sklearn.metrics import mean_squared_error, mean_absolute_error, precision_score, recall_score, f1_score\n",
    "\n",
    "def evaluate_rmse(model, test_data):\n",
    "    predictions = []\n",
    "    targets = []\n",
    "    for (user, item, rating) in test_data:\n",
    "        predicted_rating = model.predict_single(user - 1, item - 1)\n",
    "        predictions.append(predicted_rating)\n",
    "        targets.append(rating)\n",
    "    mse = mean_squared_error(targets, predictions)\n",
    "    rmse = np.sqrt(mse)\n",
    "    return rmse\n",
    "\n",
    "def evaluate_mae(model, test_data):\n",
    "    predictions = []\n",
    "    targets = []\n",
    "    for (user, item, rating) in test_data:\n",
    "        predicted_rating = model.predict_single(user - 1, item - 1)\n",
    "        predictions.append(predicted_rating)\n",
    "        targets.append(rating)\n",
    "    mae = mean_absolute_error(targets, predictions)\n",
    "    return mae\n",
    "\n",
    "def evaluate_classification_metrics(model, test_data, threshold=3.5):\n",
    "    predictions = []\n",
    "    targets = []\n",
    "    for (user, item, rating) in test_data:\n",
    "        predicted_rating = model.predict_single(user - 1, item - 1)\n",
    "        predictions.append(1 if predicted_rating >= threshold else 0)\n",
    "        targets.append(1 if rating >= threshold else 0)\n",
    "    \n",
    "    precision = precision_score(targets, predictions)\n",
    "    recall = recall_score(targets, predictions)\n",
    "    f1 = f1_score(targets, predictions)\n",
    "    return precision, recall, f1\n",
    "\n",
    "test_rmse = evaluate_rmse(model, test_data)\n",
    "print(f\"RMSE no conjunto de teste: {test_rmse:.4f}\")\n",
    "\n",
    "\n",
    "test_mae = evaluate_mae(model, test_data)\n",
    "print(f\"MAE no conjunto de teste: {test_mae:.4f}\")\n",
    "\n",
    "test_precision, test_recall, test_f1 = evaluate_classification_metrics(model, test_data)\n",
    "\n",
    "print(f\"Precisão no conjunto de teste: {test_precision:.4f}\")\n",
    "print(f\"Recall no conjunto de teste: {test_recall:.4f}\")\n",
    "print(f\"F1-Score no conjunto de teste: {test_f1:.4f}\")\n"
   ]
  },
  {
   "cell_type": "code",
   "execution_count": 96,
   "metadata": {},
   "outputs": [
    {
     "name": "stdout",
     "output_type": "stream",
     "text": [
      "Learning Rate: 0.001, Test RMSE: 3.6980004029427573\n",
      "Learning Rate: 0.0015, Test RMSE: 3.6775489781030366\n",
      "Learning Rate: 0.002, Test RMSE: 3.452903626282879\n",
      "Learning Rate: 0.003, Test RMSE: 1.900191108480248\n",
      "Learning Rate: 0.004, Test RMSE: 1.3760936498424967\n",
      "Learning Rate: 0.005, Test RMSE: 1.176217322993063\n",
      "Learning Rate: 0.006, Test RMSE: 1.0916311085489288\n",
      "Learning Rate: 0.007, Test RMSE: 1.0504980977683567\n",
      "Learning Rate: 0.008, Test RMSE: 1.0249104937656561\n",
      "Learning Rate: 0.009, Test RMSE: 1.0078902725067609\n",
      "Learning Rate: 0.01, Test RMSE: 0.9979014649934478\n"
     ]
    }
   ],
   "source": [
    "from sklearn.model_selection import train_test_split\n",
    "import matplotlib.pyplot as plt\n",
    "\n",
    "train_data, test_data = train_test_split(dataset, test_size=0.2, random_state=42)\n",
    "\n",
    "learning_rates = [0.001, 0.0015, 0.002, 0.003, 0.004, 0.005, 0.006, 0.007, 0.008, 0.009, 0.01]\n",
    "rmse_values = []\n",
    "\n",
    "for lr in learning_rates:\n",
    "\n",
    "    model = RegularizedSVD(n_users, n_items, n_factors=100, lr=lr, reg=0.002, max_epochs=5)\n",
    "    model.train(train_data)  \n",
    "\n",
    "    test_rmse = evaluate_rmse(model, test_data)\n",
    "\n",
    "    rmse_values.append(test_rmse)\n",
    "    print(f\"Learning Rate: {lr}, Test RMSE: {test_rmse}\")\n",
    "\n"
   ]
  },
  {
   "cell_type": "code",
   "execution_count": 97,
   "metadata": {},
   "outputs": [
    {
     "data": {
      "image/png": "[encoded data removed]",
      "text/plain": [
       "<Figure size 1000x600 with 1 Axes>"
      ]
     },
     "metadata": {},
     "output_type": "display_data"
    }
   ],
   "source": [
    "# Plot RMSE vs Learning Rate curve\n",
    "plt.figure(figsize=(10, 6))\n",
    "plt.plot(learning_rates, rmse_values, marker='o')\n",
    "plt.xlabel('Learning Rate')\n",
    "plt.ylabel('RMSE')\n",
    "plt.title('RMSE vs Learning Rate')\n",
    "plt.xscale('log')\n",
    "plt.grid(True)\n",
    "plt.show()"
   ]
  }
 ],
 "metadata": {
  "kernelspec": {
   "display_name": "Python 3",
   "language": "python",
   "name": "python3"
  },
  "language_info": {
   "codemirror_mode": {
    "name": "ipython",
    "version": 3
   },
   "file_extension": ".py",
   "mimetype": "text/x-python",
   "name": "python",
   "nbconvert_exporter": "python",
   "pygments_lexer": "ipython3",
   "version": "3.11.9"
  }
 },
 "nbformat": 4,
 "nbformat_minor": 2
}
